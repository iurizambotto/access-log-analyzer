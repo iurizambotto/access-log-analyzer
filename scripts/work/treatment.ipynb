{
 "cells": [
  {
   "cell_type": "code",
   "execution_count": 1,
   "id": "a728a920-f3b7-4db0-b8eb-a773d0b92cdb",
   "metadata": {},
   "outputs": [],
   "source": [
    "# !pip install dateparser\n",
    "\n",
    "# create pyspark context and session\n",
    "from pyspark import SparkContext\n",
    "from pyspark.sql import SparkSession\n",
    "\n",
    "from dateparser import parse\n",
    "import calendar"
   ]
  },
  {
   "cell_type": "code",
   "execution_count": 2,
   "id": "d9ca9d3a-d6c0-4b6f-8f09-b7120302d610",
   "metadata": {},
   "outputs": [],
   "source": [
    "spark = SparkSession.builder.appName(\"accessLogAnalysis\").getOrCreate()\n",
    "sc = spark.sparkContext\n"
   ]
  },
  {
   "cell_type": "code",
   "execution_count": 3,
   "id": "a72377bc-7c0d-4b3b-a332-3e6d3f2b4672",
   "metadata": {},
   "outputs": [],
   "source": [
    "# read the log file\n",
    "path = \"./data/access_log.txt\"\n",
    "columns = [\"ip_address\", \"1\", \"2\", \"datetime\", \"timezone\", \"method\", \"path\", \"type\", \"response_code\", \"response_size\"]"
   ]
  },
  {
   "cell_type": "code",
   "execution_count": 4,
   "id": "dbe5d031-0524-46ee-912c-4e1ae127050a",
   "metadata": {},
   "outputs": [],
   "source": [
    "rdd = sc.textFile(path).map(\n",
    "    lambda line: dict(zip(columns, line.split()))\n",
    ")\n",
    "# print(dataframe.show(5, False))"
   ]
  },
  {
   "cell_type": "code",
   "execution_count": null,
   "id": "3f124942-ce9e-458d-b339-06258f5bd6dc",
   "metadata": {},
   "outputs": [],
   "source": []
  },
  {
   "cell_type": "markdown",
   "id": "838d9e01-bb3d-4b25-a9c5-58c74473593d",
   "metadata": {},
   "source": [
    "## Questão 1) Identifique as 10 maiores origens de acesso (Client IP) por quantidade de acessos."
   ]
  },
  {
   "cell_type": "code",
   "execution_count": 5,
   "id": "b418cf1e-8695-4186-b3aa-c3cc4f9f9b07",
   "metadata": {},
   "outputs": [
    {
     "data": {
      "text/plain": [
       "[(158614, '10.216.113.172'),\n",
       " (51942, '10.220.112.1'),\n",
       " (47503, '10.173.141.213'),\n",
       " (43592, '10.240.144.183'),\n",
       " (37554, '10.41.69.177'),\n",
       " (22516, '10.169.128.121'),\n",
       " (20866, '10.211.47.159'),\n",
       " (19667, '10.96.173.111'),\n",
       " (18878, '10.203.77.198'),\n",
       " (18721, '10.31.77.18')]"
      ]
     },
     "execution_count": 5,
     "metadata": {},
     "output_type": "execute_result"
    }
   ],
   "source": [
    "rdd.map(\n",
    "    lambda line: (\n",
    "        line[\"ip_address\"],\n",
    "        1,\n",
    "    )\n",
    ").reduceByKey(\n",
    "    lambda k, v: k + v\n",
    ").map(\n",
    "    lambda item: tuple(list(item)[::-1])\n",
    ").sortByKey(\n",
    "    False\n",
    ").take(10)"
   ]
  },
  {
   "cell_type": "markdown",
   "id": "45747d5c-5502-4146-b236-099662bed607",
   "metadata": {},
   "source": [
    "## Questão 2) Liste os 6 endpoints mais acessados, desconsiderando aqueles que representam arquivos"
   ]
  },
  {
   "cell_type": "code",
   "execution_count": 6,
   "id": "561f4dac-840f-46fa-a9b1-428d3dd5acc0",
   "metadata": {},
   "outputs": [
    {
     "data": {
      "text/plain": [
       "[(99303, '/'),\n",
       " (25937, '/release-schedule/'),\n",
       " (23055, '/search/'),\n",
       " (18940, '/release-schedule'),\n",
       " (8415, '/release-schedule/?p=1&r=&l=&o=&rpp=10'),\n",
       " (7505, '/news/')]"
      ]
     },
     "execution_count": 6,
     "metadata": {},
     "output_type": "execute_result"
    }
   ],
   "source": [
    "rdd.filter(\n",
    "    lambda item: \".\" not in item.get(\"path\")\n",
    ").map(\n",
    "    lambda line: (\n",
    "        line[\"path\"],\n",
    "        1,\n",
    "    )\n",
    ").reduceByKey(\n",
    "    lambda k, v: k + v\n",
    ").map(\n",
    "    lambda item: tuple(list(item)[::-1])\n",
    ").sortByKey(\n",
    "    False\n",
    ").take(6)\n"
   ]
  },
  {
   "cell_type": "markdown",
   "id": "6d70e96f-e041-4e0d-9830-c3799ff85fe7",
   "metadata": {},
   "source": [
    "## Questão 3) Qual a quantidade de Client IPs distintos"
   ]
  },
  {
   "cell_type": "code",
   "execution_count": 7,
   "id": "05ffe80b-96e1-4b99-953e-af6dbec0dbd8",
   "metadata": {},
   "outputs": [
    {
     "data": {
      "text/plain": [
       "333923"
      ]
     },
     "execution_count": 7,
     "metadata": {},
     "output_type": "execute_result"
    }
   ],
   "source": [
    "rdd.map(\n",
    "    lambda line: line[\"ip_address\"]\n",
    ").distinct().count()"
   ]
  },
  {
   "cell_type": "markdown",
   "id": "09700972-f9a7-4bfc-a37e-36b14b6291c5",
   "metadata": {},
   "source": [
    "## Questão 4) Quantos dias de dados estão representados no arquivo?"
   ]
  },
  {
   "cell_type": "code",
   "execution_count": 8,
   "id": "0af1c21d-30cd-4d91-ba5f-2c03713d7473",
   "metadata": {},
   "outputs": [
    {
     "data": {
      "text/plain": [
       "793"
      ]
     },
     "execution_count": 8,
     "metadata": {},
     "output_type": "execute_result"
    }
   ],
   "source": [
    "rdd.map(\n",
    "    lambda line: line[\"datetime\"].split(\":\")[0]\n",
    ").distinct().count()"
   ]
  },
  {
   "cell_type": "code",
   "execution_count": null,
   "id": "ff98bb5f-266d-450b-966b-ea034aba7233",
   "metadata": {},
   "outputs": [],
   "source": []
  },
  {
   "cell_type": "markdown",
   "id": "40a22252-a7f6-41d3-ba83-8b9736dbac86",
   "metadata": {},
   "source": [
    "## Questão 5) Com base no tamanho (em bytes) do conteúdo das respostas, faça a seguinte análise"
   ]
  },
  {
   "cell_type": "code",
   "execution_count": 9,
   "id": "23efc70a-4ce6-4b98-80d0-cf10e6c9da6f",
   "metadata": {},
   "outputs": [],
   "source": [
    "def _try_cast(obj, type):\n",
    "    try:\n",
    "        return isinstance(type(obj), type)\n",
    "    except:\n",
    "        return False"
   ]
  },
  {
   "cell_type": "code",
   "execution_count": 10,
   "id": "0d3c59a6-46c0-409f-8e35-eba3555036dc",
   "metadata": {
    "scrolled": true
   },
   "outputs": [],
   "source": [
    "question_5_rdd = rdd.filter(\n",
    "    lambda item: (\n",
    "        item.get(\"response_code\", \"\").startswith(\"2\")\n",
    "    )\n",
    ").filter(\n",
    "    lambda item: _try_cast(item.get(\"response_size\", \"\"), int)\n",
    ").map(\n",
    "    lambda item: int(item.get(\"response_size\"))\n",
    ")"
   ]
  },
  {
   "cell_type": "markdown",
   "id": "87790587-daf1-44d9-9dbe-df863833ac19",
   "metadata": {},
   "source": [
    "### O volume total de dados retornado."
   ]
  },
  {
   "cell_type": "code",
   "execution_count": 11,
   "id": "d649a74c-cb09-423c-8ada-5579d53e9187",
   "metadata": {},
   "outputs": [
    {
     "name": "stdout",
     "output_type": "stream",
     "text": [
      "805193340248 Bytes\n",
      "767892.21 Megabytes\n",
      "749.89 Gigabytes\n",
      "0.73 Terabytes\n"
     ]
    }
   ],
   "source": [
    "question_5_rdd_sum = question_5_rdd.sum()\n",
    "print(\n",
    "    question_5_rdd_sum,\n",
    "    \"Bytes\"\n",
    ")\n",
    "print(\n",
    "    round(question_5_rdd_sum / 1024 / 1024, 2),\n",
    "    \"Megabytes\"\n",
    ")\n",
    "print(\n",
    "    round(question_5_rdd_sum / 1024 / 1024 / 1024, 2),\n",
    "    \"Gigabytes\"\n",
    ")\n",
    "print(\n",
    "    round(question_5_rdd_sum / 1024 / 1024 / 1024 / 1024, 2),\n",
    "    \"Terabytes\"\n",
    ")"
   ]
  },
  {
   "cell_type": "markdown",
   "id": "24538483-880e-4082-99f4-123f15de0bda",
   "metadata": {},
   "source": [
    "### O maior volume de dados em uma única resposta."
   ]
  },
  {
   "cell_type": "code",
   "execution_count": 12,
   "id": "ec4caf51-7177-485a-a152-d41a78125c0f",
   "metadata": {},
   "outputs": [
    {
     "name": "stdout",
     "output_type": "stream",
     "text": [
      "80215074 Bytes\n",
      "76.5 MegaBytes\n"
     ]
    }
   ],
   "source": [
    "question_5_rdd_max = question_5_rdd.max()\n",
    "print(\n",
    "    question_5_rdd_max,\n",
    "    \"Bytes\"\n",
    ")\n",
    "print(\n",
    "    round(question_5_rdd_max / 1024 / 1024, 2),\n",
    "    \"MegaBytes\"\n",
    ")"
   ]
  },
  {
   "cell_type": "markdown",
   "id": "ba432b0d-aafb-416e-87d2-d5c36792d617",
   "metadata": {},
   "source": [
    "### O menor volume de dados em uma única resposta."
   ]
  },
  {
   "cell_type": "code",
   "execution_count": 13,
   "id": "d1878710-e8fd-459b-9714-703ebb1b9087",
   "metadata": {},
   "outputs": [
    {
     "name": "stdout",
     "output_type": "stream",
     "text": [
      "1 Bytes\n",
      "0.0 MegaBytes\n"
     ]
    }
   ],
   "source": [
    "question_5_rdd_min = question_5_rdd.min() \n",
    "print(\n",
    "    question_5_rdd_min,\n",
    "    \"Bytes\"\n",
    ")\n",
    "print(\n",
    "    round(question_5_rdd_min / 1024 / 1024, 2),\n",
    "    \"MegaBytes\"\n",
    ")"
   ]
  },
  {
   "cell_type": "markdown",
   "id": "1a49e79a-24ef-45fd-b131-adc4179729fe",
   "metadata": {},
   "source": [
    "### O volume médio de dados retornado"
   ]
  },
  {
   "cell_type": "code",
   "execution_count": 14,
   "id": "71b9533d-5c29-44c9-84d2-80788d67c8b4",
   "metadata": {},
   "outputs": [
    {
     "name": "stdout",
     "output_type": "stream",
     "text": [
      "201076.29656152302 Bytes\n",
      "0.19 MegaBytes\n"
     ]
    }
   ],
   "source": [
    "question_5_rdd_mean = question_5_rdd.mean()\n",
    "print(\n",
    "    question_5_rdd_mean,\n",
    "    \"Bytes\"\n",
    ")\n",
    "print(\n",
    "    round(question_5_rdd_mean / 1024 / 1024, 2),\n",
    "    \"MegaBytes\"\n",
    ")"
   ]
  },
  {
   "cell_type": "code",
   "execution_count": null,
   "id": "511b40af-204a-44a1-a4ea-d7bcf9172933",
   "metadata": {},
   "outputs": [],
   "source": []
  },
  {
   "cell_type": "code",
   "execution_count": null,
   "id": "544a57a0-36c3-4dea-9bd9-612037d4e22a",
   "metadata": {},
   "outputs": [],
   "source": []
  },
  {
   "cell_type": "code",
   "execution_count": null,
   "id": "047f3efd-4a88-4e3c-bafc-c31c277a777b",
   "metadata": {},
   "outputs": [],
   "source": []
  },
  {
   "cell_type": "markdown",
   "id": "acbcad1d-60e8-452c-99a0-4474bbd8c990",
   "metadata": {},
   "source": [
    "## Questão 6) Qual o dia da semana com o maior número de erros do tipo \"HTTP Client Error\"?"
   ]
  },
  {
   "cell_type": "code",
   "execution_count": 15,
   "id": "e3dcca1d-8ce5-464e-8c72-164b0a93fd0d",
   "metadata": {},
   "outputs": [
    {
     "data": {
      "text/plain": [
       "'Friday'"
      ]
     },
     "execution_count": 15,
     "metadata": {},
     "output_type": "execute_result"
    }
   ],
   "source": [
    "# Ref: https://developer.mozilla.org/en-US/docs/Web/HTTP/Status#client_error_responses\n",
    "rdd.filter(\n",
    "    lambda item: item.get(\"response_code\", \"\").startswith(\"4\")\n",
    ").map(\n",
    "    lambda line: (\n",
    "        calendar.day_name[\n",
    "            parse(line[\"datetime\"].split(\":\")[0].replace(\"[\", \"\")).weekday()\n",
    "        ],\n",
    "        1\n",
    "    )\n",
    ").reduceByKey(\n",
    "    lambda k, v: k + v\n",
    ").map(\n",
    "    lambda item: tuple(list(item)[::-1])\n",
    ").sortByKey(\n",
    "    False\n",
    ").take(1)[0][1]"
   ]
  },
  {
   "cell_type": "code",
   "execution_count": null,
   "id": "589e575b-0a44-49bb-b2fb-291e1b95f15f",
   "metadata": {},
   "outputs": [],
   "source": []
  },
  {
   "cell_type": "code",
   "execution_count": 16,
   "id": "f19b04dd-0d9c-4e17-a0db-2e5e80c936c9",
   "metadata": {},
   "outputs": [
    {
     "data": {
      "text/plain": [
       "4477843"
      ]
     },
     "execution_count": 16,
     "metadata": {},
     "output_type": "execute_result"
    }
   ],
   "source": [
    "rdd.count()"
   ]
  },
  {
   "cell_type": "code",
   "execution_count": null,
   "id": "dbd2884f-d417-4443-95b0-ac0ba242b350",
   "metadata": {},
   "outputs": [],
   "source": []
  },
  {
   "cell_type": "code",
   "execution_count": null,
   "id": "636fa53f-12dc-4d8f-9605-5425cabf7b16",
   "metadata": {},
   "outputs": [],
   "source": [
    "rdd_initial = rdd.map(\n",
    "    lambda line: (\n",
    "        line[\"response_size\"],\n",
    "        1,\n",
    "    )\n",
    ").reduceByKey(\n",
    "    lambda k, v: k + v\n",
    ").map(\n",
    "    lambda item: tuple(list(item)[::-1])\n",
    ").sortByKey(\n",
    "    False\n",
    ").take(10)\n",
    "rdd_initial"
   ]
  },
  {
   "cell_type": "code",
   "execution_count": null,
   "id": "5823dc88-73f5-41ed-85b7-e7ea7a6d992b",
   "metadata": {},
   "outputs": [],
   "source": []
  }
 ],
 "metadata": {
  "kernelspec": {
   "display_name": "Python 3 (ipykernel)",
   "language": "python",
   "name": "python3"
  },
  "language_info": {
   "codemirror_mode": {
    "name": "ipython",
    "version": 3
   },
   "file_extension": ".py",
   "mimetype": "text/x-python",
   "name": "python",
   "nbconvert_exporter": "python",
   "pygments_lexer": "ipython3",
   "version": "3.11.6"
  }
 },
 "nbformat": 4,
 "nbformat_minor": 5
}
